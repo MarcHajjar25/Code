{
 "cells": [
  {
   "cell_type": "code",
   "execution_count": 1,
   "id": "4bac56e4",
   "metadata": {},
   "outputs": [
    {
     "name": "stdout",
     "output_type": "stream",
     "text": [
      "nice\n",
      "Hello Stephen. How are you doing today?\n",
      "Hello Ralu. How are you doing today?\n",
      "Enter an integer: 3\n",
      "Enter another integer: 4\n",
      "7\n",
      "-1\n",
      "0.75\n"
     ]
    }
   ],
   "source": [
    "def quotientProblem(x,y):\n",
    "    goo = x+y\n",
    "    return goo\n",
    "def quotientProblems(x,y):\n",
    "    ga = x-y\n",
    "    return ga\n",
    "def quotientProblemss(x,y):\n",
    "    ge = x/y\n",
    "    return ge\n",
    "def test_return():\n",
    "   str1 = 'nice'\n",
    "   return str1\n",
    "\n",
    "\n",
    "print(test_return())\n",
    "\n",
    "def ola(name):\n",
    "    return 'Hello ' + name + \". How are you doing today?\"\n",
    "\n",
    "print(ola('Stephen'))\n",
    "print(ola('Ralu'))\n",
    "def main():\n",
    "    x = int(input(\"Enter an integer: \"))\n",
    "    y = int(input(\"Enter another integer: \"))\n",
    "    \n",
    "    print (quotientProblem(x,y))\n",
    "    print (quotientProblems(x,y))\n",
    "    print (quotientProblemss(x,y))\n",
    "    \n",
    "if __name__ == '__main__':\n",
    "    main()\n"
   ]
  },
  {
   "cell_type": "code",
   "execution_count": null,
   "id": "d3911650",
   "metadata": {},
   "outputs": [],
   "source": []
  }
 ],
 "metadata": {
  "kernelspec": {
   "display_name": "Python 3 (ipykernel)",
   "language": "python",
   "name": "python3"
  },
  "language_info": {
   "codemirror_mode": {
    "name": "ipython",
    "version": 3
   },
   "file_extension": ".py",
   "mimetype": "text/x-python",
   "name": "python",
   "nbconvert_exporter": "python",
   "pygments_lexer": "ipython3",
   "version": "3.9.12"
  }
 },
 "nbformat": 4,
 "nbformat_minor": 5
}
