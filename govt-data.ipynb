{
 "cells": [
  {
   "cell_type": "code",
   "execution_count": 36,
   "id": "7b5bf190",
   "metadata": {},
   "outputs": [],
   "source": [
    "#import necessary libaries\n",
    "import pandas as pd\n",
    "import matplotlib"
   ]
  },
  {
   "cell_type": "code",
   "execution_count": 37,
   "id": "6f75f8a4",
   "metadata": {},
   "outputs": [],
   "source": [
    "#name file path (you will have download your own dataset and populate the path and choose the appropriate cell to execute)\n",
    "file = 'asecpub21csv/ffpub21.csv' # <-- edit this value! "
   ]
  },
  {
   "cell_type": "code",
   "execution_count": 38,
   "id": "5cb97db9",
   "metadata": {},
   "outputs": [
    {
     "name": "stdout",
     "output_type": "stream",
     "text": [
      "   FPOVCUT  FPERSONS  FHEADIDX  FSPOUIDX  FOWNU6  FRELU6  FKIND  FKINDEX  \\\n",
      "0    20244         3         1         2       0       0      1        1   \n",
      "1    20244         3         1         2       0       0      1        1   \n",
      "2    12413         1         1         0       0       0      2        3   \n",
      "3    17839         2         1         0       0       0      2        3   \n",
      "4    13465         1         3         0       0       0      3        4   \n",
      "\n",
      "   FTYPE  FRELU18  ...  F_MV_SL  I_FHIPVAL  I_FHIPVAL2  I_FMEDVAL  I_FMOOP  \\\n",
      "0      1        0  ...        0          1           1          0        1   \n",
      "1      1        0  ...        0          0           0          0        0   \n",
      "2      2        0  ...        0          1           1          0        1   \n",
      "3      1        1  ...      105          0           0          0        0   \n",
      "4      5        0  ...        0          0           0          0        0   \n",
      "\n",
      "   I_FMOOP2  I_FOTCVAL  POVLL  FILEDATE  YYYYMM  \n",
      "0         1          0      5     81921  202103  \n",
      "1         0          0     14     81921  202103  \n",
      "2         1          1      5     81921  202103  \n",
      "3         0          0      1     81921  202103  \n",
      "4         0          0     12     81921  202103  \n",
      "\n",
      "[5 rows x 85 columns]\n"
     ]
    }
   ],
   "source": [
    "#read data from CSV (.csv) & print head\n",
    "df = pd.read_csv(file)\n",
    "print(df.head())"
   ]
  },
  {
   "cell_type": "code",
   "execution_count": null,
   "id": "d242da37",
   "metadata": {},
   "outputs": [],
   "source": []
  },
  {
   "cell_type": "code",
   "execution_count": 39,
   "id": "0d9555eb",
   "metadata": {},
   "outputs": [
    {
     "name": "stdout",
     "output_type": "stream",
     "text": [
      "['FPOVCUT', 'FPERSONS', 'FHEADIDX', 'FSPOUIDX', 'FOWNU6', 'FRELU6', 'FKIND', 'FKINDEX', 'FTYPE', 'FRELU18', 'FOWNU18', 'FLASTIDX', 'FMLASIDX', 'FH_SEQ', 'FAMLIS', 'FANNVAL', 'FCSPVAL', 'FDISVAL', 'FDIVVAL', 'FDSTVAL', 'FEARNVAL', 'FEDVAL', 'FFINVAL', 'FFPOS', 'FFRVAL', 'FHIP_VAL', 'FHIP_VAL2', 'FINC_ANN', 'FINC_CSP', 'FINC_DIS', 'FINC_DIV', 'FINC_DST', 'FINC_ED', 'FINC_FIN', 'FINC_FR', 'FINC_INT', 'FINC_OI', 'FINC_PAW', 'FINC_PEN', 'FINC_RNT', 'FINC_SE', 'FINC_SS', 'FINC_SSI', 'FINC_SUR', 'FINC_UC', 'FINC_VET', 'FINC_WC', 'FINC_WS', 'FINTVAL', 'FMED_VAL', 'FMOOP', 'FMOOP2', 'FOIVAL', 'FOTC_VAL', 'FOTHVAL', 'FPAWVAL', 'FPCTCUT', 'FPENVAL', 'FRECORD', 'FRNTVAL', 'FRSPOV', 'FRSPPCT', 'FSEVAL', 'FSPANISH', 'FSSIVAL', 'FSSVAL', 'FSUP_WGT', 'FSURVAL', 'FTOTVAL', 'FTOT_R', 'FUCVAL', 'FVETVAL', 'FWCVAL', 'FWSVAL', 'F_MV_FS', 'F_MV_SL', 'I_FHIPVAL', 'I_FHIPVAL2', 'I_FMEDVAL', 'I_FMOOP', 'I_FMOOP2', 'I_FOTCVAL', 'POVLL', 'FILEDATE', 'YYYYMM']\n",
      "73151\n"
     ]
    }
   ],
   "source": [
    "print(list(df))\n",
    "print(len(df))"
   ]
  },
  {
   "cell_type": "code",
   "execution_count": 40,
   "id": "2a672e6b",
   "metadata": {},
   "outputs": [
    {
     "name": "stdout",
     "output_type": "stream",
     "text": [
      "   Types of Married Families   freq\n",
      "0                          1  31976\n",
      "3                          2    330\n",
      "2                          3  17439\n",
      "1                          4  23406\n"
     ]
    }
   ],
   "source": [
    "#output frequency table of chosen column in dataset\n",
    "col = 'FKINDEX' #<-edit this value! column name as it appears in dataframe\n",
    "col_name = 'Types of Married Families' #<-edit this value! descriptive name for column\n",
    "freq = df[col].value_counts().rename_axis(col_name).reset_index(name='freq')\n",
    "freq = freq.sort_values(by = col_name)\n",
    "print(freq)"
   ]
  },
  {
   "cell_type": "code",
   "execution_count": 42,
   "id": "ff3a005f",
   "metadata": {},
   "outputs": [
    {
     "name": "stdout",
     "output_type": "stream",
     "text": [
      "            Types of Married Families   freq\n",
      "0  Opposite-sex married couple family  31976\n",
      "3      Same-sex married couple family    330\n",
      "2               Male reference person  17439\n",
      "1             Female reference person  23406\n"
     ]
    }
   ],
   "source": [
    "#replace codes with descriptive labels\n",
    "#if your dataframe already has descriptive labels, you don't need to run this cell\n",
    "codebook = [['0', 'Types of Married Families'], #<- if appropriate, replace these values based on codebook or data dictionary for your dataset\n",
    "            ['1', 'Opposite-sex married couple family'], \n",
    "            ['2', 'Same-sex married couple family'],\n",
    "            ['3', 'Male reference person'],\n",
    "            ['4', 'Female reference person']]\n",
    "\n",
    "for lbl in codebook:\n",
    "\n",
    "    freq[col_name] = freq[col_name].replace(int(lbl[0]), lbl[1])\n",
    "\n",
    "print(freq)"
   ]
  },
  {
   "cell_type": "code",
   "execution_count": 25,
   "id": "d7f72565",
   "metadata": {},
   "outputs": [
    {
     "data": {
      "image/png": "[encoded data removed]",
      "text/plain": [
       "<Figure size 432x288 with 1 Axes>"
      ]
     },
     "metadata": {
      "needs_background": "light"
     },
     "output_type": "display_data"
    }
   ],
   "source": [
    "ax = freq.plot.barh(x=col_name, y='freq', rot=0)"
   ]
  },
  {
   "cell_type": "code",
   "execution_count": 18,
   "id": "7a487746",
   "metadata": {},
   "outputs": [
    {
     "name": "stdout",
     "output_type": "stream",
     "text": [
      "2.3182594906426433\n",
      "2.0\n",
      "1.4604262563667194\n"
     ]
    }
   ],
   "source": [
    "quant_col = 'FPERSONS'\n",
    "mean = df[quant_col].mean()\n",
    "print(mean)\n",
    "\n",
    "median = df[quant_col].median()\n",
    "print(median)\n",
    "\n",
    "standard_deviation = df[quant_col].std()\n",
    "print(standard_deviation)"
   ]
  },
  {
   "cell_type": "code",
   "execution_count": null,
   "id": "916ca81d",
   "metadata": {},
   "outputs": [],
   "source": []
  }
 ],
 "metadata": {
  "kernelspec": {
   "display_name": "Python 3 (ipykernel)",
   "language": "python",
   "name": "python3"
  },
  "language_info": {
   "codemirror_mode": {
    "name": "ipython",
    "version": 3
   },
   "file_extension": ".py",
   "mimetype": "text/x-python",
   "name": "python",
   "nbconvert_exporter": "python",
   "pygments_lexer": "ipython3",
   "version": "3.9.12"
  }
 },
 "nbformat": 4,
 "nbformat_minor": 5
}
